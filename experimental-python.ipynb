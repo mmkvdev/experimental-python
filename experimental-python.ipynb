{
 "cells": [
  {
   "cell_type": "code",
   "execution_count": 1,
   "metadata": {},
   "outputs": [
    {
     "name": "stdout",
     "output_type": "stream",
     "text": [
      "Collecting https://pypi.python.org/packages/source/P/PrettyTable/prettytable-0.7.2.tar.bz2\n",
      "  Using cached https://pypi.python.org/packages/source/P/PrettyTable/prettytable-0.7.2.tar.bz2 (21 kB)\n",
      "Requirement already satisfied (use --upgrade to upgrade): prettytable==0.7.2 from https://pypi.python.org/packages/source/P/PrettyTable/prettytable-0.7.2.tar.bz2 in /home/mmudunuri/.local/lib/python3.8/site-packages\n",
      "Building wheels for collected packages: prettytable\n",
      "  Building wheel for prettytable (setup.py) ... \u001b[?25ldone\n",
      "\u001b[?25h  Created wheel for prettytable: filename=prettytable-0.7.2-py3-none-any.whl size=13698 sha256=5b495bb628c0caa48bee3ef0a960df402c116335d917bd9d9014d1e99673208c\n",
      "  Stored in directory: /home/mmudunuri/.cache/pip/wheels/8e/c5/f1/f946df758c03d27a41267059e19bba92f39686ab3d4f9b6002\n",
      "Successfully built prettytable\n",
      "Note: you may need to restart the kernel to use updated packages.\n"
     ]
    }
   ],
   "source": [
    "pip install https://pypi.python.org/packages/source/P/PrettyTable/prettytable-0.7.2.tar.bz2"
   ]
  },
  {
   "cell_type": "markdown",
   "metadata": {
    "id": "dxuNQwrQWv1P"
   },
   "source": [
    "Problem 1:\n",
    "\n",
    "For a catchment, the following excess rainfall hyetograph (ERH) and direct runoff hydrograph (DRH) are given for a 3-hour storm event.  \n",
    "a)  Compute the area of the catchment.\n",
    "\n",
    "b)  Compute the unit hydrograph ordinates (0.5 hour interval) using least square regression. What is the duration of this unit hydrograph?\n",
    "\n",
    "c)  Calculate a 75-min and a 90-min unit hydrograph from the one derived in (b).\n",
    " \n",
    "\n"
   ]
  },
  {
   "cell_type": "code",
   "execution_count": 21,
   "metadata": {
    "colab": {
     "base_uri": "https://localhost:8080/",
     "height": 1000
    },
    "id": "GRjFu-vdEiCg",
    "outputId": "3d0868f5-330d-4d33-eea9-b9fbde445fac"
   },
   "outputs": [
    {
     "name": "stdout",
     "output_type": "stream",
     "text": [
      "Catchment Area = 55.535999999999994 Km^2\n",
      "Precipiatation Matrix \n",
      " [[1.25 0.   0.   0.   0.   0.   0.   0.   0.   0.   0.   0.   0.  ]\n",
      " [3.   1.25 0.   0.   0.   0.   0.   0.   0.   0.   0.   0.   0.  ]\n",
      " [4.25 3.   1.25 0.   0.   0.   0.   0.   0.   0.   0.   0.   0.  ]\n",
      " [0.   4.25 3.   1.25 0.   0.   0.   0.   0.   0.   0.   0.   0.  ]\n",
      " [2.25 0.   4.25 3.   1.25 0.   0.   0.   0.   0.   0.   0.   0.  ]\n",
      " [0.5  2.25 0.   4.25 3.   1.25 0.   0.   0.   0.   0.   0.   0.  ]\n",
      " [0.   0.5  2.25 0.   4.25 3.   1.25 0.   0.   0.   0.   0.   0.  ]\n",
      " [0.   0.   0.5  2.25 0.   4.25 3.   1.25 0.   0.   0.   0.   0.  ]\n",
      " [0.   0.   0.   0.5  2.25 0.   4.25 3.   1.25 0.   0.   0.   0.  ]\n",
      " [0.   0.   0.   0.   0.5  2.25 0.   4.25 3.   1.25 0.   0.   0.  ]\n",
      " [0.   0.   0.   0.   0.   0.5  2.25 0.   4.25 3.   1.25 0.   0.  ]\n",
      " [0.   0.   0.   0.   0.   0.   0.5  2.25 0.   4.25 3.   1.25 0.  ]\n",
      " [0.   0.   0.   0.   0.   0.   0.   0.5  2.25 0.   4.25 3.   1.25]\n",
      " [0.   0.   0.   0.   0.   0.   0.   0.   0.5  2.25 0.   4.25 3.  ]\n",
      " [0.   0.   0.   0.   0.   0.   0.   0.   0.   0.5  2.25 0.   4.25]\n",
      " [0.   0.   0.   0.   0.   0.   0.   0.   0.   0.   0.5  2.25 0.  ]\n",
      " [0.   0.   0.   0.   0.   0.   0.   0.   0.   0.   0.   0.5  2.25]\n",
      " [0.   0.   0.   0.   0.   0.   0.   0.   0.   0.   0.   0.   0.5 ]]\n",
      "+------+--------------+\n",
      "| Time |      UH      |\n",
      "+------+--------------+\n",
      "| 0.0  | [1.92201763] |\n",
      "| 0.5  | [3.26015653] |\n",
      "| 1.0  | [4.37941966] |\n",
      "| 1.5  | [4.75568478] |\n",
      "| 2.0  | [3.65971243] |\n",
      "| 2.5  | [2.08510101] |\n",
      "| 3.0  | [1.3325574]  |\n",
      "| 3.5  | [2.30253163] |\n",
      "| 4.0  | [3.14322818] |\n",
      "| 4.5  | [2.48203374] |\n",
      "| 5.0  | [1.1267255]  |\n",
      "| 5.5  | [0.13274507] |\n",
      "| 6.0  | [0.1805679]  |\n",
      "+------+--------------+\n"
     ]
    },
    {
     "name": "stderr",
     "output_type": "stream",
     "text": [
      "<ipython-input-21-d9740dad5739>:32: DeprecationWarning: `np.float` is a deprecated alias for the builtin `float`. To silence this warning, use `float` by itself. Doing this will not modify any behavior and is safe. If you specifically wanted the numpy scalar type, use `np.float64` here.\n",
      "Deprecated in NumPy 1.20; for more details and guidance: https://numpy.org/devdocs/release/1.20.0-notes.html#deprecations\n",
      "  P = np.asarray(b,dtype=np.float)\n"
     ]
    },
    {
     "data": {
      "image/png": "[encoded data removed]",
      "text/plain": [
       "<Figure size 432x288 with 1 Axes>"
      ]
     },
     "metadata": {
      "needs_background": "light"
     },
     "output_type": "display_data"
    },
    {
     "name": "stdout",
     "output_type": "stream",
     "text": [
      "Ordinates of S-Curve Hydrograph:\n",
      " [1.9220176271792866, 3.2601565347071126, 4.379419658312425, 4.7556847837879, 3.659712428559056, 4.007118637921893, 4.592713935430099, 6.681951286282155, 7.898912963422254, 6.141746169973791, 5.133844137748845, 4.725459005734749, 6.862519185471682]\n",
      "Enter the Duration of Unit Hydrograph (In Hours): \n",
      "\n",
      "3.5\n",
      "Lagged S Hydrograph by duration D [  0.           0.           0.           0.           0.\n",
      "   0.           0.           0.           0.           0.\n",
      "   0.           0.           0.           0.           1.92201763\n",
      "   2.97126529   3.90488724   4.65834991   4.68512111   3.75815884\n",
      "   3.78441245   4.16349384   4.87220981   6.5772672    7.87786694\n",
      "   7.1732467    5.74266234   5.10090371   4.69505342   5.49538234\n",
      "   8.83522221  16.04790475  28.46676167  47.42512472  74.2563256\n",
      " 110.29369605 156.87056779]\n",
      "[2.9712652928617516, 2.9712652928617516, 2.9712652928617516, 2.9712652928617516, 2.9712652928617516, 2.9712652928617516, 2.9712652928617516, 2.9712652928617516, 2.9712652928617516, 2.9712652928617516, 2.9712652928617516, 2.9712652928617516, 2.9712652928617516, 2.9712652928617516, 1.049247665682465, 0.0, -0.9336219437905386, -1.6870846213293849, -1.7138558126667487, -0.7868935509694919, -0.8131471574849622, -1.192228547524909, -1.90094451778514]\n",
      "The ordinate of DU Hour duration unit hydrograph is as follows [-25.04043411 -25.04043411 -25.04043411 -25.04043411 -25.04043411\n",
      " -25.04043411 -25.04043411 -25.04043411 -25.04043411 -25.04043411\n",
      " -25.04043411 -25.04043411 -25.04043411 -25.04043411  -6.57852915\n",
      "   3.5         12.46788841  19.70526029  19.96241048  11.05849153\n",
      "  11.31067006  14.95192938  21.7594876 ]\n"
     ]
    }
   ],
   "source": [
    "#Making list of given data\n",
    "import numpy as np\n",
    "import matplotlib.pyplot as plt\n",
    "from matplotlib import style\n",
    "from scipy import interpolate\n",
    "Rainfall = np.array([2.5,6,8.5,0,4.5,1])\n",
    "Time_1 = np.linspace(0,8.5,18)\n",
    "Drh_o = np.array([0,12,22.5,33,42,42,35,28.5,27,29,26.6,20,13,7.5,5,3,1,0])\n",
    "\n",
    "\n",
    "#Calculation of total area\n",
    "R_s = sum(Rainfall)*0.001*0.5\n",
    "Drh = sum(Drh_o)*0.5*3600\n",
    "A = (Drh/R_s)*10**(-6)    \n",
    "print(\"Catchment Area =\",A,\"Km^2\")\n",
    "\n",
    "\n",
    "\n",
    "# calculation of Unit Hydrograph ordinates\n",
    "M = 6  #No.of Rainfall pulses\n",
    "N = 18  #No.of Non zero flow detected in the DRH\n",
    "k = N-M+1 \n",
    "Dt = 0.5 #Time interval\n",
    "\n",
    "Q = np.array([Drh_o]).T # 1*N Matrix For Runoff\n",
    "H = np.array([Rainfall*Dt]).T # 1*M size Matrix For Rainfall\n",
    "\n",
    "b = [] \n",
    "for i in range (k):\n",
    "  a = np.pad(Rainfall*Dt, (i, N-M-i), 'constant', constant_values=(0,0))\n",
    "  b.append(a)\n",
    "P = np.asarray(b,dtype=np.float) \n",
    "\n",
    "\n",
    "PT= P.T    #Precipitation matrix\n",
    "print('Precipiatation Matrix \\n',PT)\n",
    "#Multiply the [transpose of P] and [P] \n",
    "PTP = P.dot(PT)\n",
    "\n",
    "\n",
    "#Obtain the matrix inverse of [PTP]\n",
    "PTPINV=np.linalg.inv(PTP)\n",
    "\n",
    "\n",
    "\n",
    "\n",
    "# pseudo-inverse matrix\n",
    "Z = PTPINV.dot(P) \n",
    "\n",
    "\n",
    "UH = Z.dot(Q) # Unit Hydrograph From Least Square Method\n",
    "Time = np.linspace(0,6,k)\n",
    "\n",
    "from prettytable import PrettyTable\n",
    "Table=PrettyTable(['Time','UH'])\n",
    "for x in range(0,13):\n",
    "  Table.add_row([Time[x],UH[x]])\n",
    "print(Table)\n",
    "\n",
    "\n",
    "time=  np.arange(0,6.5,0.5)\n",
    "plt.plot(time,UH,'r-',label=  'Least Square Method')\n",
    "plt.xlabel('Time(Hour)')\n",
    "plt.ylabel('Flow(m^3/sec)')\n",
    "plt.title('Unit Hydrograph')\n",
    "plt.grid()\n",
    "plt.legend()\n",
    "plt.show()\n",
    "\n",
    "#Calculation of unit hydrograph of 90 min and 75 min\n",
    "U1 = np.append(UH,np.zeros(5))\n",
    "U2 = np.append(np.zeros(5),UH)\n",
    "U3 = np.append(np.zeros(10),UH)\n",
    "S_c =[]\n",
    "for i in range(0,len(UH)):\n",
    "  summ = U1[i]+U2[i]+U3[i]\n",
    "  S_c.append(summ)\n",
    "  \n",
    "print(\"Ordinates of S-Curve Hydrograph:\\n\", S_c)\n",
    "Time_3 = np.linspace(np.min(Time_1),np.max(Time_1),23)\n",
    "# print('time', len(Time_3))\n",
    "# print('scccc: ', len(S_c))\n",
    "U_n = interpolate.make_interp_spline(Time_1[0:13], S_c[0:len(Time_1)])\n",
    "U_sm= np.asarray(U_n(Time_3))\n",
    "\n",
    "\n",
    "#TO make list of list as a list\n",
    "b1 = []\n",
    "for i in U_sm:\n",
    "  b1.append(i)\n",
    "\n",
    "\n",
    "\n",
    "#Input of desired duration for  UH\n",
    "print(\"Enter the Duration of Unit Hydrograph (In Hours): \\n\")\n",
    "DU = float(input())\n",
    "Si = int(DU/0.25)\n",
    "S1 = np.append(np.zeros(Si),b1)\n",
    "print(\"Lagged S Hydrograph by duration D\", S1)\n",
    "\n",
    "\n",
    "\n",
    "\n",
    "\n",
    "\n",
    "#Calculation of difference of S curve Hydrograph Lagged by desired duration \n",
    "D_S =[]\n",
    "a1 = []\n",
    "for i in range(0, len(b1)):\n",
    "  a1 = b1[1]-S1[i]\n",
    "  D_S.append(a1)\n",
    "\n",
    "print(D_S)\n",
    "D_Sa = np.asarray(D_S)\n",
    "S_DU = DU - D_Sa*(sum(D_S)/DU)\n",
    "print(\"The ordinate of DU Hour duration unit hydrograph is as follows\", S_DU)"
   ]
  },
  {
   "cell_type": "markdown",
   "metadata": {
    "id": "IciHoqAVW4PW"
   },
   "source": [
    "Problem 2:\n",
    "\n",
    "Write two computer programs for kinematic wave routing using\n",
    " (a) Linear Method; (b) Non-Linear Method. Each program needs to have the following features:\n",
    "\n",
    "•\tAsk the user for channel cross-section with two options to choose from: a) Rectangular section; b) Trapezoidal section\n",
    "\n",
    "•\tIf rectangular section is chosen, ask to input the bottom width (in m).\n",
    "\n",
    "•\tIf trapezoidal section is chosen, ask to input the bottom width (in m) and side slope (in degrees with vertical).\n",
    "\n",
    "•\tAsk the user to input the longitudinal slope of the channel (dimensionless)\n",
    "\n",
    "•\tAsk the user to input the length (L) of the channel (in m) for which the simulation has to be done \n",
    "\n",
    "•\tAsk the user to input the values of x and t. (you may set some default values for this)\n",
    "\n",
    "•\tUpstream boundary condition: user input hydrograph. (For intermediate times that may be required for the specified t, you may use linear interpolation)\n",
    "\n",
    "•\tUse a uniform flow as the initial condition with a user specified discharge\n",
    "\n",
    "Length of the Channel where water surface profile is to be simulated (L) = 5 km, x = 100 m and t = 1 min\n",
    "\n",
    "Channel Bed Slope: 0.015, Manning’s n = 0.02\n",
    "\n",
    "Width of the Rectangular Channel is 90 m\n",
    "Width and the side slope of the trapezoidal channel are 60 m and 30o (with vertical), respectively.\n",
    "\n",
    "\n"
   ]
  },
  {
   "cell_type": "code",
   "execution_count": null,
   "metadata": {
    "colab": {
     "base_uri": "https://localhost:8080/",
     "height": 241,
     "resources": {
      "http://localhost:8080/nbextensions/google.colab/files.js": {
       "data": "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",
       "headers": [
        [
         "content-type",
         "application/javascript"
        ]
       ],
       "ok": true,
       "status": 200,
       "status_text": ""
      }
     }
    },
    "id": "su34v2uFXav7",
    "outputId": "4ad95dbb-8f18-4a3c-967f-1868f6358987"
   },
   "outputs": [],
   "source": [
    "import numpy as np\n",
    "import pandas as pd \n",
    "import matplotlib.pyplot as plt\n",
    "from google.colab import files\n",
    "from tabulate import tabulate\n",
    "from scipy import optimize\n",
    "from scipy import interpolate # To make Smooth Graph\n",
    "uploaded=files.upload()\n",
    "import io\n",
    "UBCH=pd.read_excel(io.BytesIO(uploaded['L10-Q2.xlsx']))\n",
    "print(UBCH)"
   ]
  },
  {
   "cell_type": "code",
   "execution_count": null,
   "metadata": {},
   "outputs": [],
   "source": []
  }
 ],
 "metadata": {
  "colab": {
   "name": "Lab10_20103078_P.Sai Sankar",
   "provenance": []
  },
  "kernelspec": {
   "display_name": "Python 3",
   "language": "python",
   "name": "python3"
  },
  "language_info": {
   "codemirror_mode": {
    "name": "ipython",
    "version": 3
   },
   "file_extension": ".py",
   "mimetype": "text/x-python",
   "name": "python",
   "nbconvert_exporter": "python",
   "pygments_lexer": "ipython3",
   "version": "3.8.5"
  }
 },
 "nbformat": 4,
 "nbformat_minor": 1
}
